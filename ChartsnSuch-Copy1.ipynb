{
 "cells": [
  {
   "cell_type": "code",
   "execution_count": 6,
   "metadata": {},
   "outputs": [],
   "source": [
    "import os\n",
    "import requests\n",
    "import pandas as pd\n",
    "import datetime as dt\n",
    "import alpaca_trade_api as tradeapi\n",
    "from MCForecastTools import MCSimulation"
   ]
  },
  {
   "cell_type": "code",
   "execution_count": 7,
   "metadata": {},
   "outputs": [
    {
     "data": {
      "text/plain": [
       "True"
      ]
     },
     "execution_count": 7,
     "metadata": {},
     "output_type": "execute_result"
    }
   ],
   "source": [
    "# Load .env environment variables\n",
    "from dotenv import load_dotenv\n",
    "load_dotenv()"
   ]
  },
  {
   "cell_type": "code",
   "execution_count": 8,
   "metadata": {},
   "outputs": [],
   "source": [
    "def get_workday(date):\n",
    "    date = pd.to_datetime(date)\n",
    "    offset = max(1, (date.weekday() + 6) % 7 - 3)\n",
    "    timedelta = dt.timedelta(offset)\n",
    "    return pd.Timestamp((date - timedelta).date(),tz=\"America/New_York\").isoformat()"
   ]
  },
  {
   "cell_type": "code",
   "execution_count": 9,
   "metadata": {},
   "outputs": [],
   "source": [
    "# Set Alpaca API key and secret\n",
    "alpaca_api_key = os.getenv(\"APCA_API_KEY\")\n",
    "alpaca_secret_key = os.getenv(\"APCA_SECRET_KEY\")\n",
    "\n",
    "api = tradeapi.REST(\n",
    "    alpaca_api_key,\n",
    "    alpaca_secret_key,\n",
    "    api_version = \"v2\"\n",
    ")"
   ]
  },
  {
   "cell_type": "code",
   "execution_count": 19,
   "metadata": {},
   "outputs": [
    {
     "data": {
      "text/html": [
       "<div>\n",
       "<style scoped>\n",
       "    .dataframe tbody tr th:only-of-type {\n",
       "        vertical-align: middle;\n",
       "    }\n",
       "\n",
       "    .dataframe tbody tr th {\n",
       "        vertical-align: top;\n",
       "    }\n",
       "\n",
       "    .dataframe thead tr th {\n",
       "        text-align: left;\n",
       "    }\n",
       "</style>\n",
       "<table border=\"1\" class=\"dataframe\">\n",
       "  <thead>\n",
       "    <tr>\n",
       "      <th></th>\n",
       "      <th colspan=\"5\" halign=\"left\">AAPL</th>\n",
       "      <th colspan=\"5\" halign=\"left\">AMZN</th>\n",
       "      <th>...</th>\n",
       "      <th colspan=\"5\" halign=\"left\">SPY</th>\n",
       "      <th colspan=\"5\" halign=\"left\">V</th>\n",
       "    </tr>\n",
       "    <tr>\n",
       "      <th></th>\n",
       "      <th>open</th>\n",
       "      <th>high</th>\n",
       "      <th>low</th>\n",
       "      <th>close</th>\n",
       "      <th>volume</th>\n",
       "      <th>open</th>\n",
       "      <th>high</th>\n",
       "      <th>low</th>\n",
       "      <th>close</th>\n",
       "      <th>volume</th>\n",
       "      <th>...</th>\n",
       "      <th>open</th>\n",
       "      <th>high</th>\n",
       "      <th>low</th>\n",
       "      <th>close</th>\n",
       "      <th>volume</th>\n",
       "      <th>open</th>\n",
       "      <th>high</th>\n",
       "      <th>low</th>\n",
       "      <th>close</th>\n",
       "      <th>volume</th>\n",
       "    </tr>\n",
       "  </thead>\n",
       "  <tbody>\n",
       "    <tr>\n",
       "      <th>2018-10-31 00:00:00-04:00</th>\n",
       "      <td>216.88</td>\n",
       "      <td>220.45</td>\n",
       "      <td>216.62</td>\n",
       "      <td>218.75</td>\n",
       "      <td>31900983</td>\n",
       "      <td>1569.11</td>\n",
       "      <td>1623.9100</td>\n",
       "      <td>1565.09</td>\n",
       "      <td>1599.19</td>\n",
       "      <td>4602373</td>\n",
       "      <td>...</td>\n",
       "      <td>270.65</td>\n",
       "      <td>273.23</td>\n",
       "      <td>270.12</td>\n",
       "      <td>270.69</td>\n",
       "      <td>97427146</td>\n",
       "      <td>134.99</td>\n",
       "      <td>139.1200</td>\n",
       "      <td>134.99</td>\n",
       "      <td>137.84</td>\n",
       "      <td>8880405</td>\n",
       "    </tr>\n",
       "    <tr>\n",
       "      <th>2018-11-01 00:00:00-04:00</th>\n",
       "      <td>219.07</td>\n",
       "      <td>222.36</td>\n",
       "      <td>216.81</td>\n",
       "      <td>222.05</td>\n",
       "      <td>40261246</td>\n",
       "      <td>1623.53</td>\n",
       "      <td>1670.4465</td>\n",
       "      <td>1598.44</td>\n",
       "      <td>1665.86</td>\n",
       "      <td>7682121</td>\n",
       "      <td>...</td>\n",
       "      <td>271.62</td>\n",
       "      <td>273.73</td>\n",
       "      <td>270.38</td>\n",
       "      <td>273.51</td>\n",
       "      <td>72100016</td>\n",
       "      <td>139.00</td>\n",
       "      <td>140.8700</td>\n",
       "      <td>137.49</td>\n",
       "      <td>140.82</td>\n",
       "      <td>7601032</td>\n",
       "    </tr>\n",
       "    <tr>\n",
       "      <th>2018-11-02 00:00:00-04:00</th>\n",
       "      <td>209.55</td>\n",
       "      <td>213.89</td>\n",
       "      <td>205.43</td>\n",
       "      <td>206.14</td>\n",
       "      <td>82917876</td>\n",
       "      <td>1678.59</td>\n",
       "      <td>1697.4400</td>\n",
       "      <td>1651.83</td>\n",
       "      <td>1665.58</td>\n",
       "      <td>6221611</td>\n",
       "      <td>...</td>\n",
       "      <td>274.74</td>\n",
       "      <td>275.23</td>\n",
       "      <td>269.59</td>\n",
       "      <td>271.80</td>\n",
       "      <td>93545041</td>\n",
       "      <td>141.11</td>\n",
       "      <td>141.4546</td>\n",
       "      <td>137.85</td>\n",
       "      <td>139.70</td>\n",
       "      <td>7017962</td>\n",
       "    </tr>\n",
       "    <tr>\n",
       "      <th>2018-11-05 00:00:00-05:00</th>\n",
       "      <td>204.30</td>\n",
       "      <td>204.39</td>\n",
       "      <td>198.17</td>\n",
       "      <td>201.59</td>\n",
       "      <td>51670747</td>\n",
       "      <td>1657.57</td>\n",
       "      <td>1658.0900</td>\n",
       "      <td>1596.36</td>\n",
       "      <td>1627.45</td>\n",
       "      <td>5231856</td>\n",
       "      <td>...</td>\n",
       "      <td>272.44</td>\n",
       "      <td>274.01</td>\n",
       "      <td>271.35</td>\n",
       "      <td>273.38</td>\n",
       "      <td>55157537</td>\n",
       "      <td>139.80</td>\n",
       "      <td>140.2100</td>\n",
       "      <td>138.07</td>\n",
       "      <td>139.79</td>\n",
       "      <td>5472273</td>\n",
       "    </tr>\n",
       "    <tr>\n",
       "      <th>2018-11-06 00:00:00-05:00</th>\n",
       "      <td>201.92</td>\n",
       "      <td>204.72</td>\n",
       "      <td>201.69</td>\n",
       "      <td>203.78</td>\n",
       "      <td>27934956</td>\n",
       "      <td>1618.35</td>\n",
       "      <td>1665.0000</td>\n",
       "      <td>1614.55</td>\n",
       "      <td>1642.86</td>\n",
       "      <td>4000487</td>\n",
       "      <td>...</td>\n",
       "      <td>273.32</td>\n",
       "      <td>275.30</td>\n",
       "      <td>273.25</td>\n",
       "      <td>275.12</td>\n",
       "      <td>49731823</td>\n",
       "      <td>139.80</td>\n",
       "      <td>140.9100</td>\n",
       "      <td>139.72</td>\n",
       "      <td>140.78</td>\n",
       "      <td>4203592</td>\n",
       "    </tr>\n",
       "  </tbody>\n",
       "</table>\n",
       "<p>5 rows × 50 columns</p>\n",
       "</div>"
      ],
      "text/plain": [
       "                             AAPL                                       AMZN  \\\n",
       "                             open    high     low   close    volume     open   \n",
       "2018-10-31 00:00:00-04:00  216.88  220.45  216.62  218.75  31900983  1569.11   \n",
       "2018-11-01 00:00:00-04:00  219.07  222.36  216.81  222.05  40261246  1623.53   \n",
       "2018-11-02 00:00:00-04:00  209.55  213.89  205.43  206.14  82917876  1678.59   \n",
       "2018-11-05 00:00:00-05:00  204.30  204.39  198.17  201.59  51670747  1657.57   \n",
       "2018-11-06 00:00:00-05:00  201.92  204.72  201.69  203.78  27934956  1618.35   \n",
       "\n",
       "                                                                 ...     SPY  \\\n",
       "                                high      low    close   volume  ...    open   \n",
       "2018-10-31 00:00:00-04:00  1623.9100  1565.09  1599.19  4602373  ...  270.65   \n",
       "2018-11-01 00:00:00-04:00  1670.4465  1598.44  1665.86  7682121  ...  271.62   \n",
       "2018-11-02 00:00:00-04:00  1697.4400  1651.83  1665.58  6221611  ...  274.74   \n",
       "2018-11-05 00:00:00-05:00  1658.0900  1596.36  1627.45  5231856  ...  272.44   \n",
       "2018-11-06 00:00:00-05:00  1665.0000  1614.55  1642.86  4000487  ...  273.32   \n",
       "\n",
       "                                                                  V            \\\n",
       "                             high     low   close    volume    open      high   \n",
       "2018-10-31 00:00:00-04:00  273.23  270.12  270.69  97427146  134.99  139.1200   \n",
       "2018-11-01 00:00:00-04:00  273.73  270.38  273.51  72100016  139.00  140.8700   \n",
       "2018-11-02 00:00:00-04:00  275.23  269.59  271.80  93545041  141.11  141.4546   \n",
       "2018-11-05 00:00:00-05:00  274.01  271.35  273.38  55157537  139.80  140.2100   \n",
       "2018-11-06 00:00:00-05:00  275.30  273.25  275.12  49731823  139.80  140.9100   \n",
       "\n",
       "                                                    \n",
       "                              low   close   volume  \n",
       "2018-10-31 00:00:00-04:00  134.99  137.84  8880405  \n",
       "2018-11-01 00:00:00-04:00  137.49  140.82  7601032  \n",
       "2018-11-02 00:00:00-04:00  137.85  139.70  7017962  \n",
       "2018-11-05 00:00:00-05:00  138.07  139.79  5472273  \n",
       "2018-11-06 00:00:00-05:00  139.72  140.78  4203592  \n",
       "\n",
       "[5 rows x 50 columns]"
      ]
     },
     "execution_count": 19,
     "metadata": {},
     "output_type": "execute_result"
    }
   ],
   "source": [
    "# Format current date as ISO format\n",
    "end_date = get_workday(\"today\")\n",
    "two_yrs = dt.timedelta(days=(365*2))\n",
    "start_date = get_workday((pd.to_datetime(\"today\") - two_yrs).date())\n",
    "# Set the tickers\n",
    "tickers = [\"AAPL\", \"MSFT\", \"AMZN\", \"FB\", \"GOOGL\", \"BRK.B\", \"JNJ\", \"V\", \"PG\", \"SPY\"]\n",
    "# Set timeframe to '1D' for Alpaca API\n",
    "timeframe = \"1D\"\n",
    "# Get current closing prices for SPY and AGG\n",
    "# YOUR CODE HERE!\n",
    "df_portfolio = api.get_barset(\n",
    "    tickers,\n",
    "    timeframe,\n",
    "    start = start_date,\n",
    "    end = end_date\n",
    ").df\n",
    "\n",
    "df_portfolio.head()"
   ]
  },
  {
   "cell_type": "code",
   "execution_count": null,
   "metadata": {},
   "outputs": [],
   "source": [
    "def rolling_averages(ticker):"
   ]
  },
  {
   "cell_type": "code",
   "execution_count": 21,
   "metadata": {},
   "outputs": [
    {
     "data": {
      "text/plain": [
       "2018-10-31 00:00:00-04:00    218.75\n",
       "2018-11-01 00:00:00-04:00    222.05\n",
       "2018-11-02 00:00:00-04:00    206.14\n",
       "2018-11-05 00:00:00-05:00    201.59\n",
       "2018-11-06 00:00:00-05:00    203.78\n",
       "                              ...  \n",
       "2020-10-26 00:00:00-04:00    115.06\n",
       "2020-10-27 00:00:00-04:00    116.53\n",
       "2020-10-28 00:00:00-04:00    111.15\n",
       "2020-10-29 00:00:00-04:00    114.52\n",
       "2020-10-30 00:00:00-04:00    108.90\n",
       "Name: close, Length: 504, dtype: float64"
      ]
     },
     "execution_count": 21,
     "metadata": {},
     "output_type": "execute_result"
    }
   ],
   "source": [
    "df_AAPL_prices = df_portfolio['AAPL']['close']\n",
    "df_AAPL_prices"
   ]
  },
  {
   "cell_type": "code",
   "execution_count": 26,
   "metadata": {},
   "outputs": [
    {
     "ename": "TypeError",
     "evalue": "rename() got an unexpected keyword argument 'columns'",
     "output_type": "error",
     "traceback": [
      "\u001b[0;31m---------------------------------------------------------------------------\u001b[0m",
      "\u001b[0;31mTypeError\u001b[0m                                 Traceback (most recent call last)",
      "\u001b[0;32m<ipython-input-26-06a1316fe3ae>\u001b[0m in \u001b[0;36m<module>\u001b[0;34m\u001b[0m\n\u001b[0;32m----> 1\u001b[0;31m \u001b[0mdf_AAPL_prices\u001b[0m\u001b[0;34m=\u001b[0m\u001b[0mdf_AAPL_prices\u001b[0m\u001b[0;34m.\u001b[0m\u001b[0mrename\u001b[0m\u001b[0;34m(\u001b[0m\u001b[0mcolumns\u001b[0m\u001b[0;34m=\u001b[0m\u001b[0;34m{\u001b[0m\u001b[0;34m'close'\u001b[0m\u001b[0;34m:\u001b[0m \u001b[0;34m'AAPL'\u001b[0m\u001b[0;34m}\u001b[0m\u001b[0;34m)\u001b[0m\u001b[0;34m\u001b[0m\u001b[0;34m\u001b[0m\u001b[0m\n\u001b[0m\u001b[1;32m      2\u001b[0m \u001b[0mdf_AAPL_prices\u001b[0m\u001b[0;34m\u001b[0m\u001b[0;34m\u001b[0m\u001b[0m\n",
      "\u001b[0;31mTypeError\u001b[0m: rename() got an unexpected keyword argument 'columns'"
     ]
    }
   ],
   "source": [
    "df_AAPL_prices=df_AAPL_prices.rename(columns={'close': 'AAPL'})\n",
    "df_AAPL_prices"
   ]
  },
  {
   "cell_type": "code",
   "execution_count": 22,
   "metadata": {},
   "outputs": [
    {
     "data": {
      "text/plain": [
       "2018-10-31 00:00:00-04:00    270.690\n",
       "2018-11-01 00:00:00-04:00    273.510\n",
       "2018-11-02 00:00:00-04:00    271.800\n",
       "2018-11-05 00:00:00-05:00    273.380\n",
       "2018-11-06 00:00:00-05:00    275.120\n",
       "                              ...   \n",
       "2020-10-26 00:00:00-04:00    339.415\n",
       "2020-10-27 00:00:00-04:00    338.250\n",
       "2020-10-28 00:00:00-04:00    326.670\n",
       "2020-10-29 00:00:00-04:00    329.990\n",
       "2020-10-30 00:00:00-04:00    326.530\n",
       "Name: close, Length: 504, dtype: float64"
      ]
     },
     "execution_count": 22,
     "metadata": {},
     "output_type": "execute_result"
    }
   ],
   "source": [
    "df_SPY_prices = df_portfolio['SPY']['close']\n",
    "df_SPY_prices"
   ]
  },
  {
   "cell_type": "code",
   "execution_count": 23,
   "metadata": {},
   "outputs": [
    {
     "data": {
      "text/html": [
       "<div>\n",
       "<style scoped>\n",
       "    .dataframe tbody tr th:only-of-type {\n",
       "        vertical-align: middle;\n",
       "    }\n",
       "\n",
       "    .dataframe tbody tr th {\n",
       "        vertical-align: top;\n",
       "    }\n",
       "\n",
       "    .dataframe thead th {\n",
       "        text-align: right;\n",
       "    }\n",
       "</style>\n",
       "<table border=\"1\" class=\"dataframe\">\n",
       "  <thead>\n",
       "    <tr style=\"text-align: right;\">\n",
       "      <th></th>\n",
       "      <th>close</th>\n",
       "      <th>close</th>\n",
       "    </tr>\n",
       "  </thead>\n",
       "  <tbody>\n",
       "    <tr>\n",
       "      <th>2018-10-31 00:00:00-04:00</th>\n",
       "      <td>218.75</td>\n",
       "      <td>270.690</td>\n",
       "    </tr>\n",
       "    <tr>\n",
       "      <th>2018-11-01 00:00:00-04:00</th>\n",
       "      <td>222.05</td>\n",
       "      <td>273.510</td>\n",
       "    </tr>\n",
       "    <tr>\n",
       "      <th>2018-11-02 00:00:00-04:00</th>\n",
       "      <td>206.14</td>\n",
       "      <td>271.800</td>\n",
       "    </tr>\n",
       "    <tr>\n",
       "      <th>2018-11-05 00:00:00-05:00</th>\n",
       "      <td>201.59</td>\n",
       "      <td>273.380</td>\n",
       "    </tr>\n",
       "    <tr>\n",
       "      <th>2018-11-06 00:00:00-05:00</th>\n",
       "      <td>203.78</td>\n",
       "      <td>275.120</td>\n",
       "    </tr>\n",
       "    <tr>\n",
       "      <th>...</th>\n",
       "      <td>...</td>\n",
       "      <td>...</td>\n",
       "    </tr>\n",
       "    <tr>\n",
       "      <th>2020-10-26 00:00:00-04:00</th>\n",
       "      <td>115.06</td>\n",
       "      <td>339.415</td>\n",
       "    </tr>\n",
       "    <tr>\n",
       "      <th>2020-10-27 00:00:00-04:00</th>\n",
       "      <td>116.53</td>\n",
       "      <td>338.250</td>\n",
       "    </tr>\n",
       "    <tr>\n",
       "      <th>2020-10-28 00:00:00-04:00</th>\n",
       "      <td>111.15</td>\n",
       "      <td>326.670</td>\n",
       "    </tr>\n",
       "    <tr>\n",
       "      <th>2020-10-29 00:00:00-04:00</th>\n",
       "      <td>114.52</td>\n",
       "      <td>329.990</td>\n",
       "    </tr>\n",
       "    <tr>\n",
       "      <th>2020-10-30 00:00:00-04:00</th>\n",
       "      <td>108.90</td>\n",
       "      <td>326.530</td>\n",
       "    </tr>\n",
       "  </tbody>\n",
       "</table>\n",
       "<p>504 rows × 2 columns</p>\n",
       "</div>"
      ],
      "text/plain": [
       "                            close    close\n",
       "2018-10-31 00:00:00-04:00  218.75  270.690\n",
       "2018-11-01 00:00:00-04:00  222.05  273.510\n",
       "2018-11-02 00:00:00-04:00  206.14  271.800\n",
       "2018-11-05 00:00:00-05:00  201.59  273.380\n",
       "2018-11-06 00:00:00-05:00  203.78  275.120\n",
       "...                           ...      ...\n",
       "2020-10-26 00:00:00-04:00  115.06  339.415\n",
       "2020-10-27 00:00:00-04:00  116.53  338.250\n",
       "2020-10-28 00:00:00-04:00  111.15  326.670\n",
       "2020-10-29 00:00:00-04:00  114.52  329.990\n",
       "2020-10-30 00:00:00-04:00  108.90  326.530\n",
       "\n",
       "[504 rows x 2 columns]"
      ]
     },
     "execution_count": 23,
     "metadata": {},
     "output_type": "execute_result"
    }
   ],
   "source": [
    "df_closing_prices= pd.concat([df_AAPL_prices, df_SPY_prices], axis='columns', join='inner')\n",
    "df_closing_prices"
   ]
  },
  {
   "cell_type": "code",
   "execution_count": 24,
   "metadata": {},
   "outputs": [
    {
     "data": {
      "text/plain": [
       "<matplotlib.axes._subplots.AxesSubplot at 0x7f8e81fc3750>"
      ]
     },
     "execution_count": 24,
     "metadata": {},
     "output_type": "execute_result"
    },
    {
     "data": {
      "image/png": "[encoded data removed]",
      "text/plain": [
       "<Figure size 1440x720 with 1 Axes>"
      ]
     },
     "metadata": {
      "needs_background": "light"
     },
     "output_type": "display_data"
    }
   ],
   "source": [
    "roll_avg_prices = df_closing_prices.rolling(window=60).std().plot(figsize=(20,10))\n",
    "roll_avg_prices"
   ]
  },
  {
   "cell_type": "code",
   "execution_count": null,
   "metadata": {},
   "outputs": [],
   "source": []
  }
 ],
 "metadata": {
  "kernelspec": {
   "display_name": "Python [conda env:alpacaenv]",
   "language": "python",
   "name": "conda-env-alpacaenv-py"
  },
  "language_info": {
   "codemirror_mode": {
    "name": "ipython",
    "version": 3
   },
   "file_extension": ".py",
   "mimetype": "text/x-python",
   "name": "python",
   "nbconvert_exporter": "python",
   "pygments_lexer": "ipython3",
   "version": "3.7.7"
  }
 },
 "nbformat": 4,
 "nbformat_minor": 4
}
